{
 "cells": [
  {
   "cell_type": "code",
   "execution_count": 7,
   "id": "12686be7",
   "metadata": {},
   "outputs": [
    {
     "name": "stdout",
     "output_type": "stream",
     "text": [
      "1 x 1 = 1\n",
      "1 x 2 = 2\n",
      "1 x 3 = 3\n",
      "1 x 4 = 4\n",
      "1 x 5 = 5\n",
      "1 x 6 = 6\n",
      "1 x 7 = 7\n",
      "1 x 8 = 8\n",
      "1 x 9 = 9\n",
      "1 x 10 = 10\n"
     ]
    }
   ],
   "source": [
    "i=1\n",
    "for multiply in range(1,11):\n",
    "    result=i*multiply\n",
    "    print(i,'x',multiply,'=',result)"
   ]
  },
  {
   "cell_type": "code",
   "execution_count": 8,
   "id": "bb001556",
   "metadata": {},
   "outputs": [
    {
     "name": "stdout",
     "output_type": "stream",
     "text": [
      "2 x 1 = 2\n",
      "2 x 2 = 4\n",
      "2 x 3 = 6\n",
      "2 x 4 = 8\n",
      "2 x 5 = 10\n",
      "2 x 6 = 12\n",
      "2 x 7 = 14\n",
      "2 x 8 = 16\n",
      "2 x 9 = 18\n",
      "2 x 10 = 20\n"
     ]
    }
   ],
   "source": [
    "i=2\n",
    "for multiply in range(1,11):\n",
    "    result=i*multiply\n",
    "    print(i,'x',multiply,'=',result)"
   ]
  },
  {
   "cell_type": "code",
   "execution_count": 9,
   "id": "b2dacd34",
   "metadata": {},
   "outputs": [
    {
     "name": "stdout",
     "output_type": "stream",
     "text": [
      "3 x 1 = 3\n",
      "3 x 2 = 6\n",
      "3 x 3 = 9\n",
      "3 x 4 = 12\n",
      "3 x 5 = 15\n",
      "3 x 6 = 18\n",
      "3 x 7 = 21\n",
      "3 x 8 = 24\n",
      "3 x 9 = 27\n",
      "3 x 10 = 30\n"
     ]
    }
   ],
   "source": [
    "i=3\n",
    "for multiply in range(1,11):\n",
    "    result=i*multiply\n",
    "    print(i,'x',multiply,'=',result)"
   ]
  },
  {
   "cell_type": "code",
   "execution_count": 10,
   "id": "75ca78c8",
   "metadata": {},
   "outputs": [
    {
     "name": "stdout",
     "output_type": "stream",
     "text": [
      "4 x 1 = 4\n",
      "4 x 2 = 8\n",
      "4 x 3 = 12\n",
      "4 x 4 = 16\n",
      "4 x 5 = 20\n",
      "4 x 6 = 24\n",
      "4 x 7 = 28\n",
      "4 x 8 = 32\n",
      "4 x 9 = 36\n",
      "4 x 10 = 40\n"
     ]
    }
   ],
   "source": [
    "i=4\n",
    "for multiply in range(1,11):\n",
    "    result=i*multiply\n",
    "    print(i,'x',multiply,'=',result)"
   ]
  },
  {
   "cell_type": "code",
   "execution_count": 11,
   "id": "ca4a833c",
   "metadata": {},
   "outputs": [
    {
     "name": "stdout",
     "output_type": "stream",
     "text": [
      "5 x 1 = 5\n",
      "5 x 2 = 10\n",
      "5 x 3 = 15\n",
      "5 x 4 = 20\n",
      "5 x 5 = 25\n",
      "5 x 6 = 30\n",
      "5 x 7 = 35\n",
      "5 x 8 = 40\n",
      "5 x 9 = 45\n",
      "5 x 10 = 50\n"
     ]
    }
   ],
   "source": [
    "i=5\n",
    "for multiply in range(1,11):\n",
    "    result=i*multiply\n",
    "    print(i,'x',multiply,'=',result)"
   ]
  },
  {
   "cell_type": "code",
   "execution_count": 12,
   "id": "7308b5f1",
   "metadata": {},
   "outputs": [
    {
     "name": "stdout",
     "output_type": "stream",
     "text": [
      "6 x 1 = 6\n",
      "6 x 2 = 12\n",
      "6 x 3 = 18\n",
      "6 x 4 = 24\n",
      "6 x 5 = 30\n",
      "6 x 6 = 36\n",
      "6 x 7 = 42\n",
      "6 x 8 = 48\n",
      "6 x 9 = 54\n",
      "6 x 10 = 60\n"
     ]
    }
   ],
   "source": [
    "i=6\n",
    "for multiply in range(1,11):\n",
    "    result=i*multiply\n",
    "    print(i,'x',multiply,'=',result)"
   ]
  },
  {
   "cell_type": "code",
   "execution_count": 13,
   "id": "851cd709",
   "metadata": {},
   "outputs": [
    {
     "name": "stdout",
     "output_type": "stream",
     "text": [
      "7 x 1 = 7\n",
      "7 x 2 = 14\n",
      "7 x 3 = 21\n",
      "7 x 4 = 28\n",
      "7 x 5 = 35\n",
      "7 x 6 = 42\n",
      "7 x 7 = 49\n",
      "7 x 8 = 56\n",
      "7 x 9 = 63\n",
      "7 x 10 = 70\n"
     ]
    }
   ],
   "source": [
    "i=7\n",
    "for multiply in range(1,11):\n",
    "    result=i*multiply\n",
    "    print(i,'x',multiply,'=',result)"
   ]
  },
  {
   "cell_type": "code",
   "execution_count": 14,
   "id": "05f002ce",
   "metadata": {},
   "outputs": [
    {
     "name": "stdout",
     "output_type": "stream",
     "text": [
      "8 x 1 = 8\n",
      "8 x 2 = 16\n",
      "8 x 3 = 24\n",
      "8 x 4 = 32\n",
      "8 x 5 = 40\n",
      "8 x 6 = 48\n",
      "8 x 7 = 56\n",
      "8 x 8 = 64\n",
      "8 x 9 = 72\n",
      "8 x 10 = 80\n"
     ]
    }
   ],
   "source": [
    "i=8\n",
    "for multiply in range(1,11):\n",
    "    result=i*multiply\n",
    "    print(i,'x',multiply,'=',result)"
   ]
  },
  {
   "cell_type": "code",
   "execution_count": 15,
   "id": "6305de2c",
   "metadata": {},
   "outputs": [
    {
     "name": "stdout",
     "output_type": "stream",
     "text": [
      "9 x 1 = 9\n",
      "9 x 2 = 18\n",
      "9 x 3 = 27\n",
      "9 x 4 = 36\n",
      "9 x 5 = 45\n",
      "9 x 6 = 54\n",
      "9 x 7 = 63\n",
      "9 x 8 = 72\n",
      "9 x 9 = 81\n",
      "9 x 10 = 90\n"
     ]
    }
   ],
   "source": [
    "i=9\n",
    "for multiply in range(1,11):\n",
    "    result=i*multiply\n",
    "    print(i,'x',multiply,'=',result)"
   ]
  },
  {
   "cell_type": "code",
   "execution_count": 16,
   "id": "5a80fbaa",
   "metadata": {},
   "outputs": [
    {
     "name": "stdout",
     "output_type": "stream",
     "text": [
      "10 x 1 = 10\n",
      "10 x 2 = 20\n",
      "10 x 3 = 30\n",
      "10 x 4 = 40\n",
      "10 x 5 = 50\n",
      "10 x 6 = 60\n",
      "10 x 7 = 70\n",
      "10 x 8 = 80\n",
      "10 x 9 = 90\n",
      "10 x 10 = 100\n"
     ]
    }
   ],
   "source": [
    "i=10\n",
    "for multiply in range(1,11):\n",
    "    result=i*multiply\n",
    "    print(i,'x',multiply,'=',result)"
   ]
  },
  {
   "cell_type": "code",
   "execution_count": 17,
   "id": "0484da24",
   "metadata": {},
   "outputs": [
    {
     "name": "stdout",
     "output_type": "stream",
     "text": [
      "11 x 1 = 11\n",
      "11 x 2 = 22\n",
      "11 x 3 = 33\n",
      "11 x 4 = 44\n",
      "11 x 5 = 55\n",
      "11 x 6 = 66\n",
      "11 x 7 = 77\n",
      "11 x 8 = 88\n",
      "11 x 9 = 99\n",
      "11 x 10 = 110\n"
     ]
    }
   ],
   "source": [
    "i=11\n",
    "for multiply in range(1,11):\n",
    "    result=i*multiply\n",
    "    print(i,'x',multiply,'=',result)"
   ]
  },
  {
   "cell_type": "code",
   "execution_count": 18,
   "id": "a6bd6954",
   "metadata": {},
   "outputs": [
    {
     "name": "stdout",
     "output_type": "stream",
     "text": [
      "12 x 1 = 12\n",
      "12 x 2 = 24\n",
      "12 x 3 = 36\n",
      "12 x 4 = 48\n",
      "12 x 5 = 60\n",
      "12 x 6 = 72\n",
      "12 x 7 = 84\n",
      "12 x 8 = 96\n",
      "12 x 9 = 108\n",
      "12 x 10 = 120\n"
     ]
    }
   ],
   "source": [
    "i=12\n",
    "for multiply in range(1,11):\n",
    "    result=i*multiply\n",
    "    print(i,'x',multiply,'=',result)"
   ]
  },
  {
   "cell_type": "code",
   "execution_count": 19,
   "id": "5b20dd48",
   "metadata": {},
   "outputs": [
    {
     "name": "stdout",
     "output_type": "stream",
     "text": [
      "13 x 1 = 13\n",
      "13 x 2 = 26\n",
      "13 x 3 = 39\n",
      "13 x 4 = 52\n",
      "13 x 5 = 65\n",
      "13 x 6 = 78\n",
      "13 x 7 = 91\n",
      "13 x 8 = 104\n",
      "13 x 9 = 117\n",
      "13 x 10 = 130\n"
     ]
    }
   ],
   "source": [
    "i=13\n",
    "for multiply in range(1,11):\n",
    "    result=i*multiply\n",
    "    print(i,'x',multiply,'=',result)"
   ]
  },
  {
   "cell_type": "code",
   "execution_count": 20,
   "id": "b7a559a5",
   "metadata": {},
   "outputs": [
    {
     "name": "stdout",
     "output_type": "stream",
     "text": [
      "14 x 1 = 14\n",
      "14 x 2 = 28\n",
      "14 x 3 = 42\n",
      "14 x 4 = 56\n",
      "14 x 5 = 70\n",
      "14 x 6 = 84\n",
      "14 x 7 = 98\n",
      "14 x 8 = 112\n",
      "14 x 9 = 126\n",
      "14 x 10 = 140\n"
     ]
    }
   ],
   "source": [
    "i=14\n",
    "for multiply in range(1,11):\n",
    "    result=i*multiply\n",
    "    print(i,'x',multiply,'=',result)"
   ]
  },
  {
   "cell_type": "code",
   "execution_count": 21,
   "id": "afdb93ee",
   "metadata": {},
   "outputs": [
    {
     "name": "stdout",
     "output_type": "stream",
     "text": [
      "15 x 1 = 15\n",
      "15 x 2 = 30\n",
      "15 x 3 = 45\n",
      "15 x 4 = 60\n",
      "15 x 5 = 75\n",
      "15 x 6 = 90\n",
      "15 x 7 = 105\n",
      "15 x 8 = 120\n",
      "15 x 9 = 135\n",
      "15 x 10 = 150\n"
     ]
    }
   ],
   "source": [
    "i=15\n",
    "for multiply in range(1,11):\n",
    "    result=i*multiply\n",
    "    print(i,'x',multiply,'=',result)"
   ]
  },
  {
   "cell_type": "code",
   "execution_count": 22,
   "id": "e07d352d",
   "metadata": {},
   "outputs": [
    {
     "name": "stdout",
     "output_type": "stream",
     "text": [
      "16 x 1 = 16\n",
      "16 x 2 = 32\n",
      "16 x 3 = 48\n",
      "16 x 4 = 64\n",
      "16 x 5 = 80\n",
      "16 x 6 = 96\n",
      "16 x 7 = 112\n",
      "16 x 8 = 128\n",
      "16 x 9 = 144\n",
      "16 x 10 = 160\n"
     ]
    }
   ],
   "source": [
    "i=16\n",
    "for multiply in range(1,11):\n",
    "    result=i*multiply\n",
    "    print(i,'x',multiply,'=',result)"
   ]
  },
  {
   "cell_type": "code",
   "execution_count": 23,
   "id": "9a1c9e02",
   "metadata": {},
   "outputs": [
    {
     "name": "stdout",
     "output_type": "stream",
     "text": [
      "17 x 1 = 17\n",
      "17 x 2 = 34\n",
      "17 x 3 = 51\n",
      "17 x 4 = 68\n",
      "17 x 5 = 85\n",
      "17 x 6 = 102\n",
      "17 x 7 = 119\n",
      "17 x 8 = 136\n",
      "17 x 9 = 153\n",
      "17 x 10 = 170\n"
     ]
    }
   ],
   "source": [
    "i=17\n",
    "for multiply in range(1,11):\n",
    "    result=i*multiply\n",
    "    print(i,'x',multiply,'=',result)"
   ]
  },
  {
   "cell_type": "code",
   "execution_count": 24,
   "id": "d9f3e715",
   "metadata": {},
   "outputs": [
    {
     "name": "stdout",
     "output_type": "stream",
     "text": [
      "18 x 1 = 18\n",
      "18 x 2 = 36\n",
      "18 x 3 = 54\n",
      "18 x 4 = 72\n",
      "18 x 5 = 90\n",
      "18 x 6 = 108\n",
      "18 x 7 = 126\n",
      "18 x 8 = 144\n",
      "18 x 9 = 162\n",
      "18 x 10 = 180\n"
     ]
    }
   ],
   "source": [
    "i=18\n",
    "for multiply in range(1,11):\n",
    "    result=i*multiply\n",
    "    print(i,'x',multiply,'=',result)"
   ]
  },
  {
   "cell_type": "code",
   "execution_count": 25,
   "id": "b3dc35ad",
   "metadata": {},
   "outputs": [
    {
     "name": "stdout",
     "output_type": "stream",
     "text": [
      "19 x 1 = 19\n",
      "19 x 2 = 38\n",
      "19 x 3 = 57\n",
      "19 x 4 = 76\n",
      "19 x 5 = 95\n",
      "19 x 6 = 114\n",
      "19 x 7 = 133\n",
      "19 x 8 = 152\n",
      "19 x 9 = 171\n",
      "19 x 10 = 190\n"
     ]
    }
   ],
   "source": [
    "i=19\n",
    "for multiply in range(1,11):\n",
    "    result=i*multiply\n",
    "    print(i,'x',multiply,'=',result)"
   ]
  },
  {
   "cell_type": "code",
   "execution_count": 26,
   "id": "950cc7c2",
   "metadata": {},
   "outputs": [
    {
     "name": "stdout",
     "output_type": "stream",
     "text": [
      "20 x 1 = 20\n",
      "20 x 2 = 40\n",
      "20 x 3 = 60\n",
      "20 x 4 = 80\n",
      "20 x 5 = 100\n",
      "20 x 6 = 120\n",
      "20 x 7 = 140\n",
      "20 x 8 = 160\n",
      "20 x 9 = 180\n",
      "20 x 10 = 200\n"
     ]
    }
   ],
   "source": [
    "i=20\n",
    "for multiply in range(1,11):\n",
    "    result=i*multiply\n",
    "    print(i,'x',multiply,'=',result)"
   ]
  },
  {
   "cell_type": "code",
   "execution_count": null,
   "id": "4dff891e",
   "metadata": {},
   "outputs": [],
   "source": []
  }
 ],
 "metadata": {
  "kernelspec": {
   "display_name": "Python 3 (ipykernel)",
   "language": "python",
   "name": "python3"
  },
  "language_info": {
   "codemirror_mode": {
    "name": "ipython",
    "version": 3
   },
   "file_extension": ".py",
   "mimetype": "text/x-python",
   "name": "python",
   "nbconvert_exporter": "python",
   "pygments_lexer": "ipython3",
   "version": "3.9.12"
  }
 },
 "nbformat": 4,
 "nbformat_minor": 5
}
